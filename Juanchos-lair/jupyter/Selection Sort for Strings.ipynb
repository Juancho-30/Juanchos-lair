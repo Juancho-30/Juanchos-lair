{
 "cells": [
  {
   "cell_type": "code",
   "execution_count": 5,
   "metadata": {},
   "outputs": [
    {
     "name": "stdout",
     "output_type": "stream",
     "text": [
      "Given array is\n",
      "0 : GeeksforGeeks\n",
      "1 : Fractice\n",
      "2 : GeeksQuiz\n",
      "\n",
      "Sorted array is\n",
      "0 : Fractice\n",
      "1 : GeeksQuiz\n",
      "2 : GeeksforGeeks\n"
     ]
    }
   ],
   "source": [
    "# Python program to implement Selection Sort for \n",
    "# array of strings \n",
    "\n",
    "# Function defined for sorting the array of strings \n",
    "def Selection(arr,n): \n",
    "\t\n",
    "\t# One by one move boundary of unsorted subarray \n",
    "\tfor i in range(n): \n",
    "\t\tmin_index = i \n",
    "\t\tmin_str = arr[i] \n",
    "\t\t\n",
    "\t\t# Find the minimum element in unsorted subarray \n",
    "\t\tfor j in range(i+1,n): \n",
    "\t\t\t\n",
    "\t\t\t# If min_str is greater than arr[j] \n",
    "\t\t\tif min_str>arr[j]: \n",
    "\t\t\t\t\n",
    "\t\t\t\t# Make arr[j] as min_str and update min_index as j \n",
    "\t\t\t\tmin_str = arr[j] \n",
    "\t\t\t\tmin_index = j \n",
    "\t\t\t\t\n",
    "\t\t# Swap the found minimum element with the first element\t \n",
    "\t\tif min_index != i: \n",
    "\t\t\t# Store the first element in temp \n",
    "\t\t\ttemp = arr[i] \n",
    "\t\t\t\n",
    "\t\t\t# Place the min element at the first position \n",
    "\t\t\tarr[i] = arr[min_index] \n",
    "\t\t\t\n",
    "\t\t\t# place the element in temp at min_index \n",
    "\t\t\tarr[min_index] = temp \n",
    "\t\n",
    "\t# Return the sorted array \n",
    "\treturn arr \n",
    "\n",
    "arr = [\"GeeksforGeeks\", \"Fractice\", \"GeeksQuiz\"] \n",
    "\n",
    "print(\"Given array is\") \n",
    "for i in range(len(arr)): \n",
    "\tprint(i,\":\",arr[i]) \n",
    "\n",
    "print(\"\\nSorted array is\") \n",
    "for i in range(len(Selection(arr,len(arr)))): \n",
    "\tprint(i,\":\",Selection(arr,len(arr))[i]) \n",
    "\t\t\t\n",
    "# This code is contributed by Manish KC \n",
    "# profile: mkumarchaudhary06 \n"
   ]
  }
 ],
 "metadata": {
  "kernelspec": {
   "display_name": "Python 3",
   "language": "python",
   "name": "python3"
  },
  "language_info": {
   "codemirror_mode": {
    "name": "ipython",
    "version": 3
   },
   "file_extension": ".py",
   "mimetype": "text/x-python",
   "name": "python",
   "nbconvert_exporter": "python",
   "pygments_lexer": "ipython3",
   "version": "3.8.2"
  }
 },
 "nbformat": 4,
 "nbformat_minor": 4
}
